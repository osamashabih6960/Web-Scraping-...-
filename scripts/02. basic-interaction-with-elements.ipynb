{
 "cells": [
  {
   "cell_type": "code",
   "execution_count": 7,
   "id": "390d288f-fb48-4ef9-ab58-b15255ad8b1a",
   "metadata": {},
   "outputs": [],
   "source": [
    "import time\n",
    "from selenium import webdriver\n",
    "from selenium.webdriver.common.by import By\n",
    "from selenium.webdriver.common.keys import Keys"
   ]
  },
  {
   "cell_type": "code",
   "execution_count": 8,
   "id": "2b483395-5eba-4e93-9c67-0b5173be0b92",
   "metadata": {},
   "outputs": [],
   "source": [
    "driver = webdriver.Chrome()\n",
    "driver.maximize_window()"
   ]
  },
  {
   "cell_type": "code",
   "execution_count": 9,
   "id": "47a373e9-ba3d-41bf-bf4a-5bbb8653edd0",
   "metadata": {},
   "outputs": [],
   "source": [
    "# access URL\n",
    "url = 'https://www.google.com'\n",
    "driver.get(url)\n",
    "time.sleep(2)"
   ]
  },
  {
   "cell_type": "code",
   "execution_count": 10,
   "id": "fbbe3e11-c75e-4067-96e9-703c0eeef056",
   "metadata": {},
   "outputs": [],
   "source": [
    "# locating search bar\n",
    "search_bar_xpath = '//*[@id=\"APjFqb\"]'\n",
    "search_bar = driver.find_element(by=By.XPATH, value=search_bar_xpath)"
   ]
  },
  {
   "cell_type": "code",
   "execution_count": 11,
   "id": "285f5476-20ea-42d4-928f-14881bf93cee",
   "metadata": {},
   "outputs": [],
   "source": [
    "# enter input\n",
    "search_bar.send_keys(\"machine learning\")\n",
    "time.sleep(1)"
   ]
  },
  {
   "cell_type": "code",
   "execution_count": 15,
   "id": "eb25ba69-60ff-4084-ab17-ad5d9c675550",
   "metadata": {},
   "outputs": [],
   "source": [
    "# clear fields\n",
    "search_bar.clear()\n",
    "time.sleep(1)"
   ]
  },
  {
   "cell_type": "code",
   "execution_count": 16,
   "id": "e2c4b7e1-aeb7-49ff-8f0d-f10391d82cd1",
   "metadata": {},
   "outputs": [],
   "source": [
    "# clear fields\n",
    "# search_bar.clear()\n",
    "# time.sleep(1)"
   ]
  },
  {
   "cell_type": "code",
   "execution_count": 19,
   "id": "d70090bf-993a-4138-ad49-0ca3430052eb",
   "metadata": {},
   "outputs": [
    {
     "ename": "InvalidSessionIdException",
     "evalue": "Message: invalid session id\nStacktrace:\n\tGetHandleVerifier [0x0x7ff6e318fca5+79861]\n\tGetHandleVerifier [0x0x7ff6e318fd00+79952]\n\t(No symbol) [0x0x7ff6e2f0c8fc]\n\t(No symbol) [0x0x7ff6e2f5438d]\n\t(No symbol) [0x0x7ff6e2f8c9a2]\n\t(No symbol) [0x0x7ff6e2f87374]\n\t(No symbol) [0x0x7ff6e2f8642a]\n\t(No symbol) [0x0x7ff6e2ed7075]\n\tGetHandleVerifier [0x0x7ff6e344b9dd+2946349]\n\tGetHandleVerifier [0x0x7ff6e3445c5a+2922410]\n\tGetHandleVerifier [0x0x7ff6e34659e7+3052855]\n\tGetHandleVerifier [0x0x7ff6e31aaa8e+189918]\n\tGetHandleVerifier [0x0x7ff6e31b2a2f+222591]\n\t(No symbol) [0x0x7ff6e2ed602c]\n\tGetHandleVerifier [0x0x7ff6e357e408+4202328]\n\tBaseThreadInitThunk [0x0x7ffe614ae8d7+23]\n\tRtlUserThreadStart [0x0x7ffe6291c34c+44]\n",
     "output_type": "error",
     "traceback": [
      "\u001b[31m---------------------------------------------------------------------------\u001b[39m",
      "\u001b[31mInvalidSessionIdException\u001b[39m                 Traceback (most recent call last)",
      "\u001b[36mCell\u001b[39m\u001b[36m \u001b[39m\u001b[32mIn[19]\u001b[39m\u001b[32m, line 2\u001b[39m\n\u001b[32m      1\u001b[39m \u001b[38;5;66;03m# simulating key press\u001b[39;00m\n\u001b[32m----> \u001b[39m\u001b[32m2\u001b[39m \u001b[43msearch_bar\u001b[49m\u001b[43m.\u001b[49m\u001b[43msend_keys\u001b[49m\u001b[43m(\u001b[49m\u001b[43mKeys\u001b[49m\u001b[43m.\u001b[49m\u001b[43mENTER\u001b[49m\u001b[43m)\u001b[49m\n\u001b[32m      3\u001b[39m time.sleep(\u001b[32m2\u001b[39m)\n",
      "\u001b[36mFile \u001b[39m\u001b[32m~\\AppData\\Roaming\\Python\\Python313\\site-packages\\selenium\\webdriver\\remote\\webelement.py:303\u001b[39m, in \u001b[36mWebElement.send_keys\u001b[39m\u001b[34m(self, *value)\u001b[39m\n\u001b[32m    300\u001b[39m             remote_files.append(\u001b[38;5;28mself\u001b[39m._upload(file))\n\u001b[32m    301\u001b[39m         value = \u001b[38;5;28mtuple\u001b[39m(\u001b[33m\"\u001b[39m\u001b[38;5;130;01m\\n\u001b[39;00m\u001b[33m\"\u001b[39m.join(remote_files))\n\u001b[32m--> \u001b[39m\u001b[32m303\u001b[39m \u001b[38;5;28;43mself\u001b[39;49m\u001b[43m.\u001b[49m\u001b[43m_execute\u001b[49m\u001b[43m(\u001b[49m\n\u001b[32m    304\u001b[39m \u001b[43m    \u001b[49m\u001b[43mCommand\u001b[49m\u001b[43m.\u001b[49m\u001b[43mSEND_KEYS_TO_ELEMENT\u001b[49m\u001b[43m,\u001b[49m\u001b[43m \u001b[49m\u001b[43m{\u001b[49m\u001b[33;43m\"\u001b[39;49m\u001b[33;43mtext\u001b[39;49m\u001b[33;43m\"\u001b[39;49m\u001b[43m:\u001b[49m\u001b[43m \u001b[49m\u001b[33;43m\"\u001b[39;49m\u001b[33;43m\"\u001b[39;49m\u001b[43m.\u001b[49m\u001b[43mjoin\u001b[49m\u001b[43m(\u001b[49m\u001b[43mkeys_to_typing\u001b[49m\u001b[43m(\u001b[49m\u001b[43mvalue\u001b[49m\u001b[43m)\u001b[49m\u001b[43m)\u001b[49m\u001b[43m,\u001b[49m\u001b[43m \u001b[49m\u001b[33;43m\"\u001b[39;49m\u001b[33;43mvalue\u001b[39;49m\u001b[33;43m\"\u001b[39;49m\u001b[43m:\u001b[49m\u001b[43m \u001b[49m\u001b[43mkeys_to_typing\u001b[49m\u001b[43m(\u001b[49m\u001b[43mvalue\u001b[49m\u001b[43m)\u001b[49m\u001b[43m}\u001b[49m\n\u001b[32m    305\u001b[39m \u001b[43m\u001b[49m\u001b[43m)\u001b[49m\n",
      "\u001b[36mFile \u001b[39m\u001b[32m~\\AppData\\Roaming\\Python\\Python313\\site-packages\\selenium\\webdriver\\remote\\webelement.py:572\u001b[39m, in \u001b[36mWebElement._execute\u001b[39m\u001b[34m(self, command, params)\u001b[39m\n\u001b[32m    570\u001b[39m     params = {}\n\u001b[32m    571\u001b[39m params[\u001b[33m\"\u001b[39m\u001b[33mid\u001b[39m\u001b[33m\"\u001b[39m] = \u001b[38;5;28mself\u001b[39m._id\n\u001b[32m--> \u001b[39m\u001b[32m572\u001b[39m \u001b[38;5;28;01mreturn\u001b[39;00m \u001b[38;5;28;43mself\u001b[39;49m\u001b[43m.\u001b[49m\u001b[43m_parent\u001b[49m\u001b[43m.\u001b[49m\u001b[43mexecute\u001b[49m\u001b[43m(\u001b[49m\u001b[43mcommand\u001b[49m\u001b[43m,\u001b[49m\u001b[43m \u001b[49m\u001b[43mparams\u001b[49m\u001b[43m)\u001b[49m\n",
      "\u001b[36mFile \u001b[39m\u001b[32m~\\AppData\\Roaming\\Python\\Python313\\site-packages\\selenium\\webdriver\\remote\\webdriver.py:429\u001b[39m, in \u001b[36mWebDriver.execute\u001b[39m\u001b[34m(self, driver_command, params)\u001b[39m\n\u001b[32m    427\u001b[39m response = \u001b[38;5;28mself\u001b[39m.command_executor.execute(driver_command, params)\n\u001b[32m    428\u001b[39m \u001b[38;5;28;01mif\u001b[39;00m response:\n\u001b[32m--> \u001b[39m\u001b[32m429\u001b[39m     \u001b[38;5;28;43mself\u001b[39;49m\u001b[43m.\u001b[49m\u001b[43merror_handler\u001b[49m\u001b[43m.\u001b[49m\u001b[43mcheck_response\u001b[49m\u001b[43m(\u001b[49m\u001b[43mresponse\u001b[49m\u001b[43m)\u001b[49m\n\u001b[32m    430\u001b[39m     response[\u001b[33m\"\u001b[39m\u001b[33mvalue\u001b[39m\u001b[33m\"\u001b[39m] = \u001b[38;5;28mself\u001b[39m._unwrap_value(response.get(\u001b[33m\"\u001b[39m\u001b[33mvalue\u001b[39m\u001b[33m\"\u001b[39m, \u001b[38;5;28;01mNone\u001b[39;00m))\n\u001b[32m    431\u001b[39m     \u001b[38;5;28;01mreturn\u001b[39;00m response\n",
      "\u001b[36mFile \u001b[39m\u001b[32m~\\AppData\\Roaming\\Python\\Python313\\site-packages\\selenium\\webdriver\\remote\\errorhandler.py:232\u001b[39m, in \u001b[36mErrorHandler.check_response\u001b[39m\u001b[34m(self, response)\u001b[39m\n\u001b[32m    230\u001b[39m         alert_text = value[\u001b[33m\"\u001b[39m\u001b[33malert\u001b[39m\u001b[33m\"\u001b[39m].get(\u001b[33m\"\u001b[39m\u001b[33mtext\u001b[39m\u001b[33m\"\u001b[39m)\n\u001b[32m    231\u001b[39m     \u001b[38;5;28;01mraise\u001b[39;00m exception_class(message, screen, stacktrace, alert_text)  \u001b[38;5;66;03m# type: ignore[call-arg]  # mypy is not smart enough here\u001b[39;00m\n\u001b[32m--> \u001b[39m\u001b[32m232\u001b[39m \u001b[38;5;28;01mraise\u001b[39;00m exception_class(message, screen, stacktrace)\n",
      "\u001b[31mInvalidSessionIdException\u001b[39m: Message: invalid session id\nStacktrace:\n\tGetHandleVerifier [0x0x7ff6e318fca5+79861]\n\tGetHandleVerifier [0x0x7ff6e318fd00+79952]\n\t(No symbol) [0x0x7ff6e2f0c8fc]\n\t(No symbol) [0x0x7ff6e2f5438d]\n\t(No symbol) [0x0x7ff6e2f8c9a2]\n\t(No symbol) [0x0x7ff6e2f87374]\n\t(No symbol) [0x0x7ff6e2f8642a]\n\t(No symbol) [0x0x7ff6e2ed7075]\n\tGetHandleVerifier [0x0x7ff6e344b9dd+2946349]\n\tGetHandleVerifier [0x0x7ff6e3445c5a+2922410]\n\tGetHandleVerifier [0x0x7ff6e34659e7+3052855]\n\tGetHandleVerifier [0x0x7ff6e31aaa8e+189918]\n\tGetHandleVerifier [0x0x7ff6e31b2a2f+222591]\n\t(No symbol) [0x0x7ff6e2ed602c]\n\tGetHandleVerifier [0x0x7ff6e357e408+4202328]\n\tBaseThreadInitThunk [0x0x7ffe614ae8d7+23]\n\tRtlUserThreadStart [0x0x7ffe6291c34c+44]\n"
     ]
    }
   ],
   "source": [
    "# simulating key press\n",
    "search_bar.send_keys(Keys.ENTER)\n",
    "time.sleep(2)"
   ]
  },
  {
   "cell_type": "code",
   "execution_count": 17,
   "id": "4e94376f-b31c-4c9b-a8c9-cea5692f5d37",
   "metadata": {},
   "outputs": [
    {
     "ename": "NoSuchElementException",
     "evalue": "Message: no such element: Unable to locate element: {\"method\":\"xpath\",\"selector\":\"//*[@id=\"rso\"]/div[1]/div/div/div/div[1]/div/div/span/a/h3\"}\n  (Session info: chrome=140.0.7339.80); For documentation on this error, please visit: https://www.selenium.dev/documentation/webdriver/troubleshooting/errors#no-such-element-exception\nStacktrace:\n\tGetHandleVerifier [0x0x7ff6e318fca5+79861]\n\tGetHandleVerifier [0x0x7ff6e318fd00+79952]\n\t(No symbol) [0x0x7ff6e2f0cada]\n\t(No symbol) [0x0x7ff6e2f64457]\n\t(No symbol) [0x0x7ff6e2f6471c]\n\t(No symbol) [0x0x7ff6e2fb8217]\n\t(No symbol) [0x0x7ff6e2f8cb1f]\n\t(No symbol) [0x0x7ff6e2fb4f8b]\n\t(No symbol) [0x0x7ff6e2f8c8b3]\n\t(No symbol) [0x0x7ff6e2f55272]\n\t(No symbol) [0x0x7ff6e2f56043]\n\tGetHandleVerifier [0x0x7ff6e344b9dd+2946349]\n\tGetHandleVerifier [0x0x7ff6e3445c5a+2922410]\n\tGetHandleVerifier [0x0x7ff6e34659e7+3052855]\n\tGetHandleVerifier [0x0x7ff6e31aaa8e+189918]\n\tGetHandleVerifier [0x0x7ff6e31b2a2f+222591]\n\tGetHandleVerifier [0x0x7ff6e3198ac4+116244]\n\tGetHandleVerifier [0x0x7ff6e3198c79+116681]\n\tGetHandleVerifier [0x0x7ff6e317f058+11176]\n\tBaseThreadInitThunk [0x0x7ffe614ae8d7+23]\n\tRtlUserThreadStart [0x0x7ffe6291c34c+44]\n",
     "output_type": "error",
     "traceback": [
      "\u001b[31m---------------------------------------------------------------------------\u001b[39m",
      "\u001b[31mNoSuchElementException\u001b[39m                    Traceback (most recent call last)",
      "\u001b[36mCell\u001b[39m\u001b[36m \u001b[39m\u001b[32mIn[17]\u001b[39m\u001b[32m, line 3\u001b[39m\n\u001b[32m      1\u001b[39m \u001b[38;5;66;03m# clicking link\u001b[39;00m\n\u001b[32m      2\u001b[39m link_xpath = \u001b[33m'\u001b[39m\u001b[33m//*[@id=\u001b[39m\u001b[33m\"\u001b[39m\u001b[33mrso\u001b[39m\u001b[33m\"\u001b[39m\u001b[33m]/div[1]/div/div/div/div[1]/div/div/span/a/h3\u001b[39m\u001b[33m'\u001b[39m\n\u001b[32m----> \u001b[39m\u001b[32m3\u001b[39m link = \u001b[43mdriver\u001b[49m\u001b[43m.\u001b[49m\u001b[43mfind_element\u001b[49m\u001b[43m(\u001b[49m\u001b[43mBy\u001b[49m\u001b[43m.\u001b[49m\u001b[43mXPATH\u001b[49m\u001b[43m,\u001b[49m\u001b[43m \u001b[49m\u001b[43mlink_xpath\u001b[49m\u001b[43m)\u001b[49m\n\u001b[32m      4\u001b[39m link.click()\n\u001b[32m      5\u001b[39m time.sleep(\u001b[32m2\u001b[39m)\n",
      "\u001b[36mFile \u001b[39m\u001b[32m~\\AppData\\Roaming\\Python\\Python313\\site-packages\\selenium\\webdriver\\remote\\webdriver.py:898\u001b[39m, in \u001b[36mWebDriver.find_element\u001b[39m\u001b[34m(self, by, value)\u001b[39m\n\u001b[32m    895\u001b[39m         \u001b[38;5;28;01mraise\u001b[39;00m NoSuchElementException(\u001b[33mf\u001b[39m\u001b[33m\"\u001b[39m\u001b[33mCannot locate relative element with: \u001b[39m\u001b[38;5;132;01m{\u001b[39;00mby.root\u001b[38;5;132;01m}\u001b[39;00m\u001b[33m\"\u001b[39m)\n\u001b[32m    896\u001b[39m     \u001b[38;5;28;01mreturn\u001b[39;00m elements[\u001b[32m0\u001b[39m]\n\u001b[32m--> \u001b[39m\u001b[32m898\u001b[39m \u001b[38;5;28;01mreturn\u001b[39;00m \u001b[38;5;28;43mself\u001b[39;49m\u001b[43m.\u001b[49m\u001b[43mexecute\u001b[49m\u001b[43m(\u001b[49m\u001b[43mCommand\u001b[49m\u001b[43m.\u001b[49m\u001b[43mFIND_ELEMENT\u001b[49m\u001b[43m,\u001b[49m\u001b[43m \u001b[49m\u001b[43m{\u001b[49m\u001b[33;43m\"\u001b[39;49m\u001b[33;43musing\u001b[39;49m\u001b[33;43m\"\u001b[39;49m\u001b[43m:\u001b[49m\u001b[43m \u001b[49m\u001b[43mby\u001b[49m\u001b[43m,\u001b[49m\u001b[43m \u001b[49m\u001b[33;43m\"\u001b[39;49m\u001b[33;43mvalue\u001b[39;49m\u001b[33;43m\"\u001b[39;49m\u001b[43m:\u001b[49m\u001b[43m \u001b[49m\u001b[43mvalue\u001b[49m\u001b[43m}\u001b[49m\u001b[43m)\u001b[49m[\u001b[33m\"\u001b[39m\u001b[33mvalue\u001b[39m\u001b[33m\"\u001b[39m]\n",
      "\u001b[36mFile \u001b[39m\u001b[32m~\\AppData\\Roaming\\Python\\Python313\\site-packages\\selenium\\webdriver\\remote\\webdriver.py:429\u001b[39m, in \u001b[36mWebDriver.execute\u001b[39m\u001b[34m(self, driver_command, params)\u001b[39m\n\u001b[32m    427\u001b[39m response = \u001b[38;5;28mself\u001b[39m.command_executor.execute(driver_command, params)\n\u001b[32m    428\u001b[39m \u001b[38;5;28;01mif\u001b[39;00m response:\n\u001b[32m--> \u001b[39m\u001b[32m429\u001b[39m     \u001b[38;5;28;43mself\u001b[39;49m\u001b[43m.\u001b[49m\u001b[43merror_handler\u001b[49m\u001b[43m.\u001b[49m\u001b[43mcheck_response\u001b[49m\u001b[43m(\u001b[49m\u001b[43mresponse\u001b[49m\u001b[43m)\u001b[49m\n\u001b[32m    430\u001b[39m     response[\u001b[33m\"\u001b[39m\u001b[33mvalue\u001b[39m\u001b[33m\"\u001b[39m] = \u001b[38;5;28mself\u001b[39m._unwrap_value(response.get(\u001b[33m\"\u001b[39m\u001b[33mvalue\u001b[39m\u001b[33m\"\u001b[39m, \u001b[38;5;28;01mNone\u001b[39;00m))\n\u001b[32m    431\u001b[39m     \u001b[38;5;28;01mreturn\u001b[39;00m response\n",
      "\u001b[36mFile \u001b[39m\u001b[32m~\\AppData\\Roaming\\Python\\Python313\\site-packages\\selenium\\webdriver\\remote\\errorhandler.py:232\u001b[39m, in \u001b[36mErrorHandler.check_response\u001b[39m\u001b[34m(self, response)\u001b[39m\n\u001b[32m    230\u001b[39m         alert_text = value[\u001b[33m\"\u001b[39m\u001b[33malert\u001b[39m\u001b[33m\"\u001b[39m].get(\u001b[33m\"\u001b[39m\u001b[33mtext\u001b[39m\u001b[33m\"\u001b[39m)\n\u001b[32m    231\u001b[39m     \u001b[38;5;28;01mraise\u001b[39;00m exception_class(message, screen, stacktrace, alert_text)  \u001b[38;5;66;03m# type: ignore[call-arg]  # mypy is not smart enough here\u001b[39;00m\n\u001b[32m--> \u001b[39m\u001b[32m232\u001b[39m \u001b[38;5;28;01mraise\u001b[39;00m exception_class(message, screen, stacktrace)\n",
      "\u001b[31mNoSuchElementException\u001b[39m: Message: no such element: Unable to locate element: {\"method\":\"xpath\",\"selector\":\"//*[@id=\"rso\"]/div[1]/div/div/div/div[1]/div/div/span/a/h3\"}\n  (Session info: chrome=140.0.7339.80); For documentation on this error, please visit: https://www.selenium.dev/documentation/webdriver/troubleshooting/errors#no-such-element-exception\nStacktrace:\n\tGetHandleVerifier [0x0x7ff6e318fca5+79861]\n\tGetHandleVerifier [0x0x7ff6e318fd00+79952]\n\t(No symbol) [0x0x7ff6e2f0cada]\n\t(No symbol) [0x0x7ff6e2f64457]\n\t(No symbol) [0x0x7ff6e2f6471c]\n\t(No symbol) [0x0x7ff6e2fb8217]\n\t(No symbol) [0x0x7ff6e2f8cb1f]\n\t(No symbol) [0x0x7ff6e2fb4f8b]\n\t(No symbol) [0x0x7ff6e2f8c8b3]\n\t(No symbol) [0x0x7ff6e2f55272]\n\t(No symbol) [0x0x7ff6e2f56043]\n\tGetHandleVerifier [0x0x7ff6e344b9dd+2946349]\n\tGetHandleVerifier [0x0x7ff6e3445c5a+2922410]\n\tGetHandleVerifier [0x0x7ff6e34659e7+3052855]\n\tGetHandleVerifier [0x0x7ff6e31aaa8e+189918]\n\tGetHandleVerifier [0x0x7ff6e31b2a2f+222591]\n\tGetHandleVerifier [0x0x7ff6e3198ac4+116244]\n\tGetHandleVerifier [0x0x7ff6e3198c79+116681]\n\tGetHandleVerifier [0x0x7ff6e317f058+11176]\n\tBaseThreadInitThunk [0x0x7ffe614ae8d7+23]\n\tRtlUserThreadStart [0x0x7ffe6291c34c+44]\n"
     ]
    }
   ],
   "source": [
    "# clicking link\n",
    "link_xpath = '//*[@id=\"rso\"]/div[1]/div/div/div/div[1]/div/div/span/a/h3'\n",
    "link = driver.find_element(By.XPATH, link_xpath)\n",
    "link.click()\n",
    "time.sleep(2)"
   ]
  },
  {
   "cell_type": "code",
   "execution_count": 4,
   "id": "6f36a054-b611-41af-98ed-e1d4efe5b8e3",
   "metadata": {},
   "outputs": [],
   "source": [
    "driver.quit()"
   ]
  },
  {
   "cell_type": "code",
   "execution_count": null,
   "id": "a07671b4-7577-43b3-83fe-4cdbe789032d",
   "metadata": {},
   "outputs": [],
   "source": []
  },
  {
   "cell_type": "code",
   "execution_count": null,
   "id": "17ed3820-c88b-4894-95f3-86cac75389ae",
   "metadata": {},
   "outputs": [],
   "source": []
  }
 ],
 "metadata": {
  "kernelspec": {
   "display_name": "web_scraping",
   "language": "python",
   "name": "web_scraping"
  },
  "language_info": {
   "codemirror_mode": {
    "name": "ipython",
    "version": 3
   },
   "file_extension": ".py",
   "mimetype": "text/x-python",
   "name": "python",
   "nbconvert_exporter": "python",
   "pygments_lexer": "ipython3",
   "version": "3.13.5"
  },
  "widgets": {
   "application/vnd.jupyter.widget-state+json": {
    "state": {},
    "version_major": 2,
    "version_minor": 0
   }
  }
 },
 "nbformat": 4,
 "nbformat_minor": 5
}
