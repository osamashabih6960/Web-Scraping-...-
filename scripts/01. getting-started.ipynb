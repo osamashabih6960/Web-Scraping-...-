{
 "cells": [
  {
   "cell_type": "code",
   "execution_count": 5,
   "id": "9601c698-7422-416d-9225-16d169d4870e",
   "metadata": {},
   "outputs": [],
   "source": [
    "from selenium import webdriver\n",
    "import time"
   ]
  },
  {
   "cell_type": "code",
   "execution_count": 3,
   "id": "121183ac-f880-4e25-81de-85ae98a7f4b4",
   "metadata": {},
   "outputs": [],
   "source": [
    "driver = webdriver.Chrome()\n"
   ]
  },
  {
   "cell_type": "code",
   "execution_count": 6,
   "id": "9d2ad90c-6be1-45d3-b812-a68d19e08d5f",
   "metadata": {},
   "outputs": [],
   "source": [
    "# introduce delay of 10s\n",
    "time.sleep(10)\n",
    "\n",
    " "
   ]
  },
  {
   "cell_type": "code",
   "execution_count": 7,
   "id": "ba401e97-07ac-4b0a-96a3-87ca52861803",
   "metadata": {},
   "outputs": [],
   "source": [
    "# maximize the browser window\n",
    "driver.maximize_window()\n"
   ]
  },
  {
   "cell_type": "code",
   "execution_count": 8,
   "id": "d4cac439-e0f2-4c76-9070-da49e2648f0e",
   "metadata": {},
   "outputs": [],
   "source": [
    "# accessing a webpage using URL\n",
    "url = \"https://www.google.com\"\n",
    "driver.get(url)"
   ]
  },
  {
   "cell_type": "code",
   "execution_count": 9,
   "id": "cbac7d7c-cc4b-48b7-84cb-5e93f948825f",
   "metadata": {},
   "outputs": [
    {
     "name": "stdout",
     "output_type": "stream",
     "text": [
      "Title: Google\n"
     ]
    }
   ],
   "source": [
    "# printing meta-data of webpage\n",
    "print(f\"Title: {driver.title}\")\n",
    " "
   ]
  },
  {
   "cell_type": "code",
   "execution_count": 10,
   "id": "4ff02eba-c8dd-4a42-90dc-297a4c904f72",
   "metadata": {},
   "outputs": [
    {
     "name": "stdout",
     "output_type": "stream",
     "text": [
      "Current URL: https://www.google.com/?zx=1757256037166&no_sw_cr=1\n"
     ]
    }
   ],
   "source": [
    "print(f\"Current URL: {driver.current_url}\")"
   ]
  },
  {
   "cell_type": "code",
   "execution_count": 11,
   "id": "122beed3-1298-4052-92c8-9af499cdf4c1",
   "metadata": {},
   "outputs": [
    {
     "name": "stdout",
     "output_type": "stream",
     "text": [
      "\n",
      "screenshot taken!\n"
     ]
    }
   ],
   "source": [
    "# capture screenshot of webpage\n",
    "driver.save_screenshot(\"google-screenshot.png\")\n",
    "print(\"\\nscreenshot taken!\")"
   ]
  },
  {
   "cell_type": "code",
   "execution_count": 12,
   "id": "7714d345-6319-4760-85e6-908c3a725b59",
   "metadata": {},
   "outputs": [],
   "source": [
    "time.sleep(5)"
   ]
  },
  {
   "cell_type": "code",
   "execution_count": 13,
   "id": "be9abaf0-5479-47fc-9edd-95b150b3a2e9",
   "metadata": {},
   "outputs": [],
   "source": [
    "# close the browser\n",
    "driver.quit()"
   ]
  },
  {
   "cell_type": "code",
   "execution_count": null,
   "id": "44e2c71c-bec7-4b2c-bf91-b78ea6c7a515",
   "metadata": {},
   "outputs": [],
   "source": []
  }
 ],
 "metadata": {
  "kernelspec": {
   "display_name": "web_scraping",
   "language": "python",
   "name": "web_scraping"
  },
  "language_info": {
   "codemirror_mode": {
    "name": "ipython",
    "version": 3
   },
   "file_extension": ".py",
   "mimetype": "text/x-python",
   "name": "python",
   "nbconvert_exporter": "python",
   "pygments_lexer": "ipython3",
   "version": "3.13.5"
  },
  "widgets": {
   "application/vnd.jupyter.widget-state+json": {
    "state": {},
    "version_major": 2,
    "version_minor": 0
   }
  }
 },
 "nbformat": 4,
 "nbformat_minor": 5
}
