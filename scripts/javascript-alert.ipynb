{
 "cells": [
  {
   "cell_type": "code",
   "execution_count": 1,
   "id": "a2de4498-14e3-4ca5-ae28-9d2f56cce116",
   "metadata": {},
   "outputs": [
    {
     "name": "stdout",
     "output_type": "stream",
     "text": [
      "Alert Text: I am an alert box!\n"
     ]
    }
   ],
   "source": [
    "import time\n",
    "from selenium import webdriver\n",
    "from selenium.webdriver.common.by import By\n",
    "\n",
    "driver = webdriver.Chrome()\n",
    "driver.maximize_window()\n",
    "\n",
    "url = \"https://www.w3schools.com/js/tryit.asp?filename=tryjs_alert\"\n",
    "driver.get(url)\n",
    "time.sleep(2)\n",
    "\n",
    "iframe_element = driver.find_element(By.ID, \"iframeResult\")\n",
    "driver.switch_to.frame(iframe_element)\n",
    "\n",
    "button = driver.find_element(By.XPATH, '/html/body/button')\n",
    "button.click()\n",
    "time.sleep(1)\n",
    "\n",
    "print(f\"Alert Text: {driver.switch_to.alert.text}\")\n",
    "\n",
    "driver.switch_to.alert.accept()\n",
    "\n",
    "time.sleep(2)\n",
    "driver.switch_to.default_content()\n",
    "\n",
    "driver.quit()"
   ]
  },
  {
   "cell_type": "code",
   "execution_count": null,
   "id": "2c751ee2-5044-4fbe-97b2-18d3a835d6e8",
   "metadata": {},
   "outputs": [],
   "source": []
  }
 ],
 "metadata": {
  "kernelspec": {
   "display_name": "Python 3 (ipykernel)",
   "language": "python",
   "name": "python3"
  },
  "language_info": {
   "codemirror_mode": {
    "name": "ipython",
    "version": 3
   },
   "file_extension": ".py",
   "mimetype": "text/x-python",
   "name": "python",
   "nbconvert_exporter": "python",
   "pygments_lexer": "ipython3",
   "version": "3.13.5"
  },
  "widgets": {
   "application/vnd.jupyter.widget-state+json": {
    "state": {},
    "version_major": 2,
    "version_minor": 0
   }
  }
 },
 "nbformat": 4,
 "nbformat_minor": 5
}
