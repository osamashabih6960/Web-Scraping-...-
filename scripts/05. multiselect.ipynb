{
 "cells": [
  {
   "cell_type": "code",
   "execution_count": 2,
   "id": "6162ab4a-d658-45ab-ab67-b451043c6bf0",
   "metadata": {},
   "outputs": [],
   "source": [
    "import time\n",
    "from selenium import webdriver\n",
    "from selenium.webdriver.common.by import By\n",
    "from selenium.webdriver.support.select import Select\n",
    "\n",
    " "
   ]
  },
  {
   "cell_type": "code",
   "execution_count": 3,
   "id": "11d396ff-bfaf-426b-9c82-b7dd1e386a92",
   "metadata": {},
   "outputs": [],
   "source": [
    "driver = webdriver.Chrome()\n",
    "driver.maximize_window()\n",
    "\n",
    "url = 'https://demoqa.com/select-menu'\n",
    "driver.get(url)\n",
    "time.sleep(2)"
   ]
  },
  {
   "cell_type": "code",
   "execution_count": 6,
   "id": "f11856f3-1f6e-40a6-8e30-352672724d1a",
   "metadata": {},
   "outputs": [
    {
     "ename": "NoSuchWindowException",
     "evalue": "Message: no such window: target window already closed\nfrom unknown error: web view not found\n  (Session info: chrome=140.0.7339.80)\nStacktrace:\n\tGetHandleVerifier [0x0x7ff6e318fca5+79861]\n\tGetHandleVerifier [0x0x7ff6e318fd00+79952]\n\t(No symbol) [0x0x7ff6e2f0cada]\n\t(No symbol) [0x0x7ff6e2ee4b91]\n\t(No symbol) [0x0x7ff6e2f940fe]\n\t(No symbol) [0x0x7ff6e2fb48c2]\n\t(No symbol) [0x0x7ff6e2f8c8b3]\n\t(No symbol) [0x0x7ff6e2f55272]\n\t(No symbol) [0x0x7ff6e2f56043]\n\tGetHandleVerifier [0x0x7ff6e344b9dd+2946349]\n\tGetHandleVerifier [0x0x7ff6e3445c5a+2922410]\n\tGetHandleVerifier [0x0x7ff6e34659e7+3052855]\n\tGetHandleVerifier [0x0x7ff6e31aaa8e+189918]\n\tGetHandleVerifier [0x0x7ff6e31b2a2f+222591]\n\tGetHandleVerifier [0x0x7ff6e3198ac4+116244]\n\tGetHandleVerifier [0x0x7ff6e3198c79+116681]\n\tGetHandleVerifier [0x0x7ff6e317f058+11176]\n\tBaseThreadInitThunk [0x0x7ffe614ae8d7+23]\n\tRtlUserThreadStart [0x0x7ffe6291c34c+44]\n",
     "output_type": "error",
     "traceback": [
      "\u001b[31m---------------------------------------------------------------------------\u001b[39m",
      "\u001b[31mNoSuchWindowException\u001b[39m                     Traceback (most recent call last)",
      "\u001b[36mCell\u001b[39m\u001b[36m \u001b[39m\u001b[32mIn[6]\u001b[39m\u001b[32m, line 1\u001b[39m\n\u001b[32m----> \u001b[39m\u001b[32m1\u001b[39m cars_element = \u001b[43mdriver\u001b[49m\u001b[43m.\u001b[49m\u001b[43mfind_element\u001b[49m\u001b[43m(\u001b[49m\u001b[43mBy\u001b[49m\u001b[43m.\u001b[49m\u001b[43mXPATH\u001b[49m\u001b[43m,\u001b[49m\u001b[43m \u001b[49m\u001b[33;43m'\u001b[39;49m\u001b[33;43m//*[@id=\u001b[39;49m\u001b[33;43m\"\u001b[39;49m\u001b[33;43mcars\u001b[39;49m\u001b[33;43m\"\u001b[39;49m\u001b[33;43m]\u001b[39;49m\u001b[33;43m'\u001b[39;49m\u001b[43m)\u001b[49m\n\u001b[32m      3\u001b[39m cars_ms = Select(cars_element)\n\u001b[32m      5\u001b[39m time.sleep(\u001b[32m2\u001b[39m)\n",
      "\u001b[36mFile \u001b[39m\u001b[32m~\\AppData\\Roaming\\Python\\Python313\\site-packages\\selenium\\webdriver\\remote\\webdriver.py:898\u001b[39m, in \u001b[36mWebDriver.find_element\u001b[39m\u001b[34m(self, by, value)\u001b[39m\n\u001b[32m    895\u001b[39m         \u001b[38;5;28;01mraise\u001b[39;00m NoSuchElementException(\u001b[33mf\u001b[39m\u001b[33m\"\u001b[39m\u001b[33mCannot locate relative element with: \u001b[39m\u001b[38;5;132;01m{\u001b[39;00mby.root\u001b[38;5;132;01m}\u001b[39;00m\u001b[33m\"\u001b[39m)\n\u001b[32m    896\u001b[39m     \u001b[38;5;28;01mreturn\u001b[39;00m elements[\u001b[32m0\u001b[39m]\n\u001b[32m--> \u001b[39m\u001b[32m898\u001b[39m \u001b[38;5;28;01mreturn\u001b[39;00m \u001b[38;5;28;43mself\u001b[39;49m\u001b[43m.\u001b[49m\u001b[43mexecute\u001b[49m\u001b[43m(\u001b[49m\u001b[43mCommand\u001b[49m\u001b[43m.\u001b[49m\u001b[43mFIND_ELEMENT\u001b[49m\u001b[43m,\u001b[49m\u001b[43m \u001b[49m\u001b[43m{\u001b[49m\u001b[33;43m\"\u001b[39;49m\u001b[33;43musing\u001b[39;49m\u001b[33;43m\"\u001b[39;49m\u001b[43m:\u001b[49m\u001b[43m \u001b[49m\u001b[43mby\u001b[49m\u001b[43m,\u001b[49m\u001b[43m \u001b[49m\u001b[33;43m\"\u001b[39;49m\u001b[33;43mvalue\u001b[39;49m\u001b[33;43m\"\u001b[39;49m\u001b[43m:\u001b[49m\u001b[43m \u001b[49m\u001b[43mvalue\u001b[49m\u001b[43m}\u001b[49m\u001b[43m)\u001b[49m[\u001b[33m\"\u001b[39m\u001b[33mvalue\u001b[39m\u001b[33m\"\u001b[39m]\n",
      "\u001b[36mFile \u001b[39m\u001b[32m~\\AppData\\Roaming\\Python\\Python313\\site-packages\\selenium\\webdriver\\remote\\webdriver.py:429\u001b[39m, in \u001b[36mWebDriver.execute\u001b[39m\u001b[34m(self, driver_command, params)\u001b[39m\n\u001b[32m    427\u001b[39m response = \u001b[38;5;28mself\u001b[39m.command_executor.execute(driver_command, params)\n\u001b[32m    428\u001b[39m \u001b[38;5;28;01mif\u001b[39;00m response:\n\u001b[32m--> \u001b[39m\u001b[32m429\u001b[39m     \u001b[38;5;28;43mself\u001b[39;49m\u001b[43m.\u001b[49m\u001b[43merror_handler\u001b[49m\u001b[43m.\u001b[49m\u001b[43mcheck_response\u001b[49m\u001b[43m(\u001b[49m\u001b[43mresponse\u001b[49m\u001b[43m)\u001b[49m\n\u001b[32m    430\u001b[39m     response[\u001b[33m\"\u001b[39m\u001b[33mvalue\u001b[39m\u001b[33m\"\u001b[39m] = \u001b[38;5;28mself\u001b[39m._unwrap_value(response.get(\u001b[33m\"\u001b[39m\u001b[33mvalue\u001b[39m\u001b[33m\"\u001b[39m, \u001b[38;5;28;01mNone\u001b[39;00m))\n\u001b[32m    431\u001b[39m     \u001b[38;5;28;01mreturn\u001b[39;00m response\n",
      "\u001b[36mFile \u001b[39m\u001b[32m~\\AppData\\Roaming\\Python\\Python313\\site-packages\\selenium\\webdriver\\remote\\errorhandler.py:232\u001b[39m, in \u001b[36mErrorHandler.check_response\u001b[39m\u001b[34m(self, response)\u001b[39m\n\u001b[32m    230\u001b[39m         alert_text = value[\u001b[33m\"\u001b[39m\u001b[33malert\u001b[39m\u001b[33m\"\u001b[39m].get(\u001b[33m\"\u001b[39m\u001b[33mtext\u001b[39m\u001b[33m\"\u001b[39m)\n\u001b[32m    231\u001b[39m     \u001b[38;5;28;01mraise\u001b[39;00m exception_class(message, screen, stacktrace, alert_text)  \u001b[38;5;66;03m# type: ignore[call-arg]  # mypy is not smart enough here\u001b[39;00m\n\u001b[32m--> \u001b[39m\u001b[32m232\u001b[39m \u001b[38;5;28;01mraise\u001b[39;00m exception_class(message, screen, stacktrace)\n",
      "\u001b[31mNoSuchWindowException\u001b[39m: Message: no such window: target window already closed\nfrom unknown error: web view not found\n  (Session info: chrome=140.0.7339.80)\nStacktrace:\n\tGetHandleVerifier [0x0x7ff6e318fca5+79861]\n\tGetHandleVerifier [0x0x7ff6e318fd00+79952]\n\t(No symbol) [0x0x7ff6e2f0cada]\n\t(No symbol) [0x0x7ff6e2ee4b91]\n\t(No symbol) [0x0x7ff6e2f940fe]\n\t(No symbol) [0x0x7ff6e2fb48c2]\n\t(No symbol) [0x0x7ff6e2f8c8b3]\n\t(No symbol) [0x0x7ff6e2f55272]\n\t(No symbol) [0x0x7ff6e2f56043]\n\tGetHandleVerifier [0x0x7ff6e344b9dd+2946349]\n\tGetHandleVerifier [0x0x7ff6e3445c5a+2922410]\n\tGetHandleVerifier [0x0x7ff6e34659e7+3052855]\n\tGetHandleVerifier [0x0x7ff6e31aaa8e+189918]\n\tGetHandleVerifier [0x0x7ff6e31b2a2f+222591]\n\tGetHandleVerifier [0x0x7ff6e3198ac4+116244]\n\tGetHandleVerifier [0x0x7ff6e3198c79+116681]\n\tGetHandleVerifier [0x0x7ff6e317f058+11176]\n\tBaseThreadInitThunk [0x0x7ffe614ae8d7+23]\n\tRtlUserThreadStart [0x0x7ffe6291c34c+44]\n"
     ]
    }
   ],
   "source": [
    "cars_element = driver.find_element(By.XPATH, '//*[@id=\"cars\"]')\n",
    "\n",
    "cars_ms = Select(cars_element) #ms-multiselect\n",
    "\n",
    "time.sleep(2)\n",
    "\n",
    "# selecting options\n",
    "\n",
    "cars_ms.select_by_index(1)\n",
    "time.sleep(1)\n",
    "\n",
    "cars_ms.select_by_visible_text(\"Opel\")\n",
    "time.sleep(1)\n",
    "\n",
    "cars_ms.select_by_visible_text(\"Audi\")\n",
    "time.sleep(1)\n",
    "\n",
    "# deselecting options\n",
    "\n",
    "cars_ms.deselect_by_index(2)\n",
    "time.sleep(1)\n",
    "\n",
    "cars_ms.deselect_all()\n",
    "time.sleep(3)\n",
    "\n",
    "driver.quit()"
   ]
  },
  {
   "cell_type": "code",
   "execution_count": null,
   "id": "049ff60b-0bd5-4d15-8489-35a2dfd65cb8",
   "metadata": {},
   "outputs": [],
   "source": []
  }
 ],
 "metadata": {
  "kernelspec": {
   "display_name": "Python 3 (ipykernel)",
   "language": "python",
   "name": "python3"
  },
  "language_info": {
   "codemirror_mode": {
    "name": "ipython",
    "version": 3
   },
   "file_extension": ".py",
   "mimetype": "text/x-python",
   "name": "python",
   "nbconvert_exporter": "python",
   "pygments_lexer": "ipython3",
   "version": "3.13.5"
  },
  "widgets": {
   "application/vnd.jupyter.widget-state+json": {
    "state": {},
    "version_major": 2,
    "version_minor": 0
   }
  }
 },
 "nbformat": 4,
 "nbformat_minor": 5
}
