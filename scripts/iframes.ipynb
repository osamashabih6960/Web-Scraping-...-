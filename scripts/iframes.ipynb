{
 "cells": [
  {
   "cell_type": "code",
   "execution_count": 4,
   "id": "b748b044-31cc-481d-8faf-5f356a6340a8",
   "metadata": {},
   "outputs": [],
   "source": [
    "import time\n",
    "from selenium import webdriver\n",
    "from selenium.webdriver.common.by import By\n",
    "\n",
    "driver = webdriver.Chrome()\n",
    "driver.maximize_window()\n",
    "\n",
    "url = \"https://www.w3schools.com/html/tryit.asp?filename=tryhtml_iframe_target\"\n",
    "driver.get(url)\n",
    "time.sleep(2)\n",
    "\n",
    "# identify iframe element and switch context\n",
    "iframe_element = driver.find_element(By.XPATH, '//*[@id=\"iframeResult\"]')\n",
    "driver.switch_to.frame(iframe_element)\n",
    "\n",
    "link = driver.find_element(By.XPATH, '/html/body/p[1]/a')\n",
    "link.click()\n",
    "time.sleep(2)\n",
    "\n",
    "# switch back to default context\n",
    "driver.switch_to.default_content()\n",
    "\n",
    "driver.quit()"
   ]
  },
  {
   "cell_type": "code",
   "execution_count": null,
   "id": "98a5bfad-6757-43d5-889b-ab0fe79ee578",
   "metadata": {},
   "outputs": [],
   "source": []
  }
 ],
 "metadata": {
  "kernelspec": {
   "display_name": "Python 3 (ipykernel)",
   "language": "python",
   "name": "python3"
  },
  "language_info": {
   "codemirror_mode": {
    "name": "ipython",
    "version": 3
   },
   "file_extension": ".py",
   "mimetype": "text/x-python",
   "name": "python",
   "nbconvert_exporter": "python",
   "pygments_lexer": "ipython3",
   "version": "3.13.5"
  },
  "widgets": {
   "application/vnd.jupyter.widget-state+json": {
    "state": {},
    "version_major": 2,
    "version_minor": 0
   }
  }
 },
 "nbformat": 4,
 "nbformat_minor": 5
}
