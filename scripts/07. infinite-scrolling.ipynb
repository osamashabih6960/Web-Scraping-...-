{
 "cells": [
  {
   "cell_type": "code",
   "execution_count": 2,
   "id": "ce733c0b-3fe6-436e-acbc-e742ce720afd",
   "metadata": {},
   "outputs": [
    {
     "name": "stdout",
     "output_type": "stream",
     "text": [
      "Webpage height: 5,016 pixels\n",
      "Webpage height: 9,480 pixels\n",
      "Webpage height: 14,192 pixels\n",
      "Webpage height: 18,811 pixels\n",
      "Webpage height: 23,368 pixels\n",
      "Webpage height: 24,465 pixels\n"
     ]
    }
   ],
   "source": [
    "import time\n",
    "from selenium import webdriver\n",
    "\n",
    "driver = webdriver.Chrome()\n",
    "driver.maximize_window()\n",
    "\n",
    "url = \"https://www.google.com/search?q=arsenal&sca_esv=2c67fa53e20e5059&rlz=1C1CHBF_enAE882AE882&udm=2&biw=1280&bih=593&sxsrf=ADLYWIIKYvudBtBTWpu19du4uTiajPUkng%3A1733969038357&ei=jkRaZ9G8FYDG4-EPkf6F4AY&ved=0ahUKEwjRu9SEkqGKAxUA4zgGHRF_AWwQ4dUDCBE&uact=5&oq=arsenal&gs_lp=EgNpbWciB2Fyc2VuYWwyBBAjGCcyBBAjGCcyBhAAGAcYHjIGEAAYBxgeMgYQABgHGB4yBhAAGAcYHjIKEAAYgAQYQxiKBTILEAAYgAQYsQMYgwEyCxAAGIAEGLEDGIMBMgoQABiABBhDGIoFSLUoUABYAHADeACQAQCYAQCgAQCqAQC4AQPIAQCYAgOgAi-YAwCIBgGSBwEzoAcA&sclient=img\"\n",
    "driver.get(url)\n",
    "time.sleep(2)\n",
    "\n",
    "# calculate h1\n",
    "prev_height = driver.execute_script(\"return document.body.scrollHeight\")\n",
    "\n",
    "while True:\n",
    "\tprint(f\"Webpage height: {prev_height:,} pixels\")\n",
    "\tdriver.execute_script(\"window.scrollTo(0, document.body.scrollHeight);\")\n",
    "\n",
    "\ttime.sleep(5)\n",
    "\n",
    "    # calculate h2\n",
    "\tnew_height = driver.execute_script(\"return document.body.scrollHeight\")\n",
    "\n",
    "    # compare h1 and h2\n",
    "\tif prev_height == new_height:\n",
    "\t\tbreak\n",
    "\n",
    "\tprev_height = new_height"
   ]
  },
  {
   "cell_type": "code",
   "execution_count": null,
   "id": "f3d6dd98-edbe-49b5-be7e-bf5538c8e357",
   "metadata": {},
   "outputs": [],
   "source": []
  }
 ],
 "metadata": {
  "kernelspec": {
   "display_name": "Python 3 (ipykernel)",
   "language": "python",
   "name": "python3"
  },
  "language_info": {
   "codemirror_mode": {
    "name": "ipython",
    "version": 3
   },
   "file_extension": ".py",
   "mimetype": "text/x-python",
   "name": "python",
   "nbconvert_exporter": "python",
   "pygments_lexer": "ipython3",
   "version": "3.13.5"
  },
  "widgets": {
   "application/vnd.jupyter.widget-state+json": {
    "state": {},
    "version_major": 2,
    "version_minor": 0
   }
  }
 },
 "nbformat": 4,
 "nbformat_minor": 5
}
