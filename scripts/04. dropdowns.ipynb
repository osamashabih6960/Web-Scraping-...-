{
 "cells": [
  {
   "cell_type": "code",
   "execution_count": null,
   "id": "e1746e7f-1875-4e1d-baae-d5f53790e912",
   "metadata": {},
   "outputs": [],
   "source": [
    "#.Miniclip dataset"
   ]
  },
  {
   "cell_type": "code",
   "execution_count": 4,
   "id": "183c5c77-c54a-4df7-bf9b-1ffaa7e51490",
   "metadata": {},
   "outputs": [],
   "source": [
    "import time\n",
    "from selenium import webdriver\n",
    "from selenium.webdriver.common.by import By\n",
    "from selenium.webdriver.support.select import Select"
   ]
  },
  {
   "cell_type": "code",
   "execution_count": 8,
   "id": "900e387f-e7fb-498f-b061-4dbb0f7c0631",
   "metadata": {},
   "outputs": [
    {
     "ename": "NoSuchElementException",
     "evalue": "Message: Could not locate element with visible text: Technology; For documentation on this error, please visit: https://www.selenium.dev/documentation/webdriver/troubleshooting/errors#no-such-element-exception\n",
     "output_type": "error",
     "traceback": [
      "\u001b[31m---------------------------------------------------------------------------\u001b[39m",
      "\u001b[31mNoSuchElementException\u001b[39m                    Traceback (most recent call last)",
      "\u001b[36mCell\u001b[39m\u001b[36m \u001b[39m\u001b[32mIn[8]\u001b[39m\u001b[32m, line 21\u001b[39m\n\u001b[32m     18\u001b[39m time.sleep(\u001b[32m2\u001b[39m)\n\u001b[32m     20\u001b[39m \u001b[38;5;66;03m# select option by display value\u001b[39;00m\n\u001b[32m---> \u001b[39m\u001b[32m21\u001b[39m \u001b[43mdepartments_dropdown\u001b[49m\u001b[43m.\u001b[49m\u001b[43mselect_by_visible_text\u001b[49m\u001b[43m(\u001b[49m\u001b[33;43m\"\u001b[39;49m\u001b[33;43mTechnology\u001b[39;49m\u001b[33;43m\"\u001b[39;49m\u001b[43m)\u001b[49m\n\u001b[32m     23\u001b[39m driver.quit()\n",
      "\u001b[36mFile \u001b[39m\u001b[32m~\\AppData\\Roaming\\Python\\Python313\\site-packages\\selenium\\webdriver\\support\\select.py:137\u001b[39m, in \u001b[36mSelect.select_by_visible_text\u001b[39m\u001b[34m(self, text)\u001b[39m\n\u001b[32m    134\u001b[39m             matched = \u001b[38;5;28;01mTrue\u001b[39;00m\n\u001b[32m    136\u001b[39m \u001b[38;5;28;01mif\u001b[39;00m \u001b[38;5;129;01mnot\u001b[39;00m matched:\n\u001b[32m--> \u001b[39m\u001b[32m137\u001b[39m     \u001b[38;5;28;01mraise\u001b[39;00m NoSuchElementException(\u001b[33mf\u001b[39m\u001b[33m\"\u001b[39m\u001b[33mCould not locate element with visible text: \u001b[39m\u001b[38;5;132;01m{\u001b[39;00mtext\u001b[38;5;132;01m}\u001b[39;00m\u001b[33m\"\u001b[39m)\n",
      "\u001b[31mNoSuchElementException\u001b[39m: Message: Could not locate element with visible text: Technology; For documentation on this error, please visit: https://www.selenium.dev/documentation/webdriver/troubleshooting/errors#no-such-element-exception\n"
     ]
    }
   ],
   "source": [
    "driver = webdriver.Chrome()\n",
    "driver.maximize_window()\n",
    "\n",
    "url = 'https://www.miniclip.com/careers/vacancies'\n",
    "driver.get(url)\n",
    "time.sleep(2)\n",
    "\n",
    "departments_field = driver.find_element(By.XPATH, '//*[@id=\"__layout\"]/div/div/section[2]/div/fieldset[3]/select')\n",
    " \n",
    "\n",
    "# convert to dropdown element\n",
    "departments_dropdown = Select(departments_field)\n",
    "time.sleep(2)\n",
    "\n",
    "# select option by index\n",
    "departments_dropdown.select_by_index(5)\n",
    "\n",
    "time.sleep(2)\n",
    "\n",
    "# select option by display value\n",
    "departments_dropdown.select_by_visible_text(\"Technology\")\n",
    "\n",
    "driver.quit()"
   ]
  },
  {
   "cell_type": "code",
   "execution_count": null,
   "id": "dbc5f3c0-6d7e-4b11-b0e2-7c5440bde53e",
   "metadata": {},
   "outputs": [],
   "source": []
  },
  {
   "cell_type": "code",
   "execution_count": null,
   "id": "ace3a38b-93e7-4fb3-982f-3bb3aa9db4ab",
   "metadata": {},
   "outputs": [],
   "source": []
  },
  {
   "cell_type": "code",
   "execution_count": null,
   "id": "e440ab24-d706-43e5-8230-8e1e07587f7e",
   "metadata": {},
   "outputs": [],
   "source": []
  }
 ],
 "metadata": {
  "kernelspec": {
   "display_name": "Python 3 (ipykernel)",
   "language": "python",
   "name": "python3"
  },
  "language_info": {
   "codemirror_mode": {
    "name": "ipython",
    "version": 3
   },
   "file_extension": ".py",
   "mimetype": "text/x-python",
   "name": "python",
   "nbconvert_exporter": "python",
   "pygments_lexer": "ipython3",
   "version": "3.13.5"
  },
  "widgets": {
   "application/vnd.jupyter.widget-state+json": {
    "state": {},
    "version_major": 2,
    "version_minor": 0
   }
  }
 },
 "nbformat": 4,
 "nbformat_minor": 5
}
