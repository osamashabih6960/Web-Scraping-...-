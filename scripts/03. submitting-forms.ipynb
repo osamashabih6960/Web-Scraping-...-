{
 "cells": [
  {
   "cell_type": "code",
   "execution_count": 3,
   "id": "49d76d51-d375-4fd1-aabc-37b3decdfc42",
   "metadata": {},
   "outputs": [
    {
     "ename": "InvalidSessionIdException",
     "evalue": "Message: invalid session id: session deleted as the browser has closed the connection\nfrom disconnected: not connected to DevTools\n  (Session info: chrome=140.0.7339.80)\nStacktrace:\n\tGetHandleVerifier [0x0x7ff6e318fca5+79861]\n\tGetHandleVerifier [0x0x7ff6e318fd00+79952]\n\t(No symbol) [0x0x7ff6e2f0cada]\n\t(No symbol) [0x0x7ff6e2ef8995]\n\t(No symbol) [0x0x7ff6e2f1dbda]\n\t(No symbol) [0x0x7ff6e2f94346]\n\t(No symbol) [0x0x7ff6e2fb48c2]\n\t(No symbol) [0x0x7ff6e2f8c8b3]\n\t(No symbol) [0x0x7ff6e2f55272]\n\t(No symbol) [0x0x7ff6e2f56043]\n\tGetHandleVerifier [0x0x7ff6e344b9dd+2946349]\n\tGetHandleVerifier [0x0x7ff6e3445c5a+2922410]\n\tGetHandleVerifier [0x0x7ff6e34659e7+3052855]\n\tGetHandleVerifier [0x0x7ff6e31aaa8e+189918]\n\tGetHandleVerifier [0x0x7ff6e31b2a2f+222591]\n\tGetHandleVerifier [0x0x7ff6e3198ac4+116244]\n\tGetHandleVerifier [0x0x7ff6e3198c79+116681]\n\tGetHandleVerifier [0x0x7ff6e317f058+11176]\n\tBaseThreadInitThunk [0x0x7ffe614ae8d7+23]\n\tRtlUserThreadStart [0x0x7ffe6291c34c+44]\n",
     "output_type": "error",
     "traceback": [
      "\u001b[31m---------------------------------------------------------------------------\u001b[39m",
      "\u001b[31mInvalidSessionIdException\u001b[39m                 Traceback (most recent call last)",
      "\u001b[36mCell\u001b[39m\u001b[36m \u001b[39m\u001b[32mIn[3]\u001b[39m\u001b[32m, line 13\u001b[39m\n\u001b[32m     10\u001b[39m time.sleep(\u001b[32m2\u001b[39m)\n\u001b[32m     12\u001b[39m \u001b[38;5;66;03m# username field\u001b[39;00m\n\u001b[32m---> \u001b[39m\u001b[32m13\u001b[39m username_field = \u001b[43mdriver\u001b[49m\u001b[43m.\u001b[49m\u001b[43mfind_element\u001b[49m\u001b[43m(\u001b[49m\u001b[43mBy\u001b[49m\u001b[43m.\u001b[49m\u001b[43mID\u001b[49m\u001b[43m,\u001b[49m\u001b[43m \u001b[49m\u001b[33;43m'\u001b[39;49m\u001b[33;43mlogin_field\u001b[39;49m\u001b[33;43m'\u001b[39;49m\u001b[43m)\u001b[49m\n\u001b[32m     14\u001b[39m username_field.send_keys(\u001b[33m'\u001b[39m\u001b[33mmisbah\u001b[39m\u001b[33m'\u001b[39m)\n\u001b[32m     15\u001b[39m time.sleep(\u001b[32m1\u001b[39m)\n",
      "\u001b[36mFile \u001b[39m\u001b[32m~\\AppData\\Roaming\\Python\\Python313\\site-packages\\selenium\\webdriver\\remote\\webdriver.py:898\u001b[39m, in \u001b[36mWebDriver.find_element\u001b[39m\u001b[34m(self, by, value)\u001b[39m\n\u001b[32m    895\u001b[39m         \u001b[38;5;28;01mraise\u001b[39;00m NoSuchElementException(\u001b[33mf\u001b[39m\u001b[33m\"\u001b[39m\u001b[33mCannot locate relative element with: \u001b[39m\u001b[38;5;132;01m{\u001b[39;00mby.root\u001b[38;5;132;01m}\u001b[39;00m\u001b[33m\"\u001b[39m)\n\u001b[32m    896\u001b[39m     \u001b[38;5;28;01mreturn\u001b[39;00m elements[\u001b[32m0\u001b[39m]\n\u001b[32m--> \u001b[39m\u001b[32m898\u001b[39m \u001b[38;5;28;01mreturn\u001b[39;00m \u001b[38;5;28;43mself\u001b[39;49m\u001b[43m.\u001b[49m\u001b[43mexecute\u001b[49m\u001b[43m(\u001b[49m\u001b[43mCommand\u001b[49m\u001b[43m.\u001b[49m\u001b[43mFIND_ELEMENT\u001b[49m\u001b[43m,\u001b[49m\u001b[43m \u001b[49m\u001b[43m{\u001b[49m\u001b[33;43m\"\u001b[39;49m\u001b[33;43musing\u001b[39;49m\u001b[33;43m\"\u001b[39;49m\u001b[43m:\u001b[49m\u001b[43m \u001b[49m\u001b[43mby\u001b[49m\u001b[43m,\u001b[49m\u001b[43m \u001b[49m\u001b[33;43m\"\u001b[39;49m\u001b[33;43mvalue\u001b[39;49m\u001b[33;43m\"\u001b[39;49m\u001b[43m:\u001b[49m\u001b[43m \u001b[49m\u001b[43mvalue\u001b[49m\u001b[43m}\u001b[49m\u001b[43m)\u001b[49m[\u001b[33m\"\u001b[39m\u001b[33mvalue\u001b[39m\u001b[33m\"\u001b[39m]\n",
      "\u001b[36mFile \u001b[39m\u001b[32m~\\AppData\\Roaming\\Python\\Python313\\site-packages\\selenium\\webdriver\\remote\\webdriver.py:429\u001b[39m, in \u001b[36mWebDriver.execute\u001b[39m\u001b[34m(self, driver_command, params)\u001b[39m\n\u001b[32m    427\u001b[39m response = \u001b[38;5;28mself\u001b[39m.command_executor.execute(driver_command, params)\n\u001b[32m    428\u001b[39m \u001b[38;5;28;01mif\u001b[39;00m response:\n\u001b[32m--> \u001b[39m\u001b[32m429\u001b[39m     \u001b[38;5;28;43mself\u001b[39;49m\u001b[43m.\u001b[49m\u001b[43merror_handler\u001b[49m\u001b[43m.\u001b[49m\u001b[43mcheck_response\u001b[49m\u001b[43m(\u001b[49m\u001b[43mresponse\u001b[49m\u001b[43m)\u001b[49m\n\u001b[32m    430\u001b[39m     response[\u001b[33m\"\u001b[39m\u001b[33mvalue\u001b[39m\u001b[33m\"\u001b[39m] = \u001b[38;5;28mself\u001b[39m._unwrap_value(response.get(\u001b[33m\"\u001b[39m\u001b[33mvalue\u001b[39m\u001b[33m\"\u001b[39m, \u001b[38;5;28;01mNone\u001b[39;00m))\n\u001b[32m    431\u001b[39m     \u001b[38;5;28;01mreturn\u001b[39;00m response\n",
      "\u001b[36mFile \u001b[39m\u001b[32m~\\AppData\\Roaming\\Python\\Python313\\site-packages\\selenium\\webdriver\\remote\\errorhandler.py:232\u001b[39m, in \u001b[36mErrorHandler.check_response\u001b[39m\u001b[34m(self, response)\u001b[39m\n\u001b[32m    230\u001b[39m         alert_text = value[\u001b[33m\"\u001b[39m\u001b[33malert\u001b[39m\u001b[33m\"\u001b[39m].get(\u001b[33m\"\u001b[39m\u001b[33mtext\u001b[39m\u001b[33m\"\u001b[39m)\n\u001b[32m    231\u001b[39m     \u001b[38;5;28;01mraise\u001b[39;00m exception_class(message, screen, stacktrace, alert_text)  \u001b[38;5;66;03m# type: ignore[call-arg]  # mypy is not smart enough here\u001b[39;00m\n\u001b[32m--> \u001b[39m\u001b[32m232\u001b[39m \u001b[38;5;28;01mraise\u001b[39;00m exception_class(message, screen, stacktrace)\n",
      "\u001b[31mInvalidSessionIdException\u001b[39m: Message: invalid session id: session deleted as the browser has closed the connection\nfrom disconnected: not connected to DevTools\n  (Session info: chrome=140.0.7339.80)\nStacktrace:\n\tGetHandleVerifier [0x0x7ff6e318fca5+79861]\n\tGetHandleVerifier [0x0x7ff6e318fd00+79952]\n\t(No symbol) [0x0x7ff6e2f0cada]\n\t(No symbol) [0x0x7ff6e2ef8995]\n\t(No symbol) [0x0x7ff6e2f1dbda]\n\t(No symbol) [0x0x7ff6e2f94346]\n\t(No symbol) [0x0x7ff6e2fb48c2]\n\t(No symbol) [0x0x7ff6e2f8c8b3]\n\t(No symbol) [0x0x7ff6e2f55272]\n\t(No symbol) [0x0x7ff6e2f56043]\n\tGetHandleVerifier [0x0x7ff6e344b9dd+2946349]\n\tGetHandleVerifier [0x0x7ff6e3445c5a+2922410]\n\tGetHandleVerifier [0x0x7ff6e34659e7+3052855]\n\tGetHandleVerifier [0x0x7ff6e31aaa8e+189918]\n\tGetHandleVerifier [0x0x7ff6e31b2a2f+222591]\n\tGetHandleVerifier [0x0x7ff6e3198ac4+116244]\n\tGetHandleVerifier [0x0x7ff6e3198c79+116681]\n\tGetHandleVerifier [0x0x7ff6e317f058+11176]\n\tBaseThreadInitThunk [0x0x7ffe614ae8d7+23]\n\tRtlUserThreadStart [0x0x7ffe6291c34c+44]\n"
     ]
    }
   ],
   "source": [
    "import time\n",
    "from selenium import webdriver\n",
    "from selenium.webdriver.common.by import By\n",
    "\n",
    "driver = webdriver.Chrome()\n",
    "driver.maximize_window()\n",
    "\n",
    "url = 'https://github.com/login'\n",
    "driver.get(url)\n",
    "time.sleep(2)\n",
    "\n",
    "# username field\n",
    "username_field = driver.find_element(By.ID, 'login_field')\n",
    "username_field.send_keys('misbah')\n",
    "time.sleep(1)\n",
    "\n",
    "# password field\n",
    "password_field = driver.find_element(By.ID, 'password')\n",
    "password_field.send_keys('pass123')\n",
    "time.sleep(1)\n",
    "\n",
    "# submit button\n",
    "submit_button = driver.find_element(By.XPATH, '//*[@id=\"login\"]/div[4]/form/div/input[13]')\n",
    "submit_button.click()\n",
    "time.sleep(2)\n",
    "\n",
    "driver.quit()"
   ]
  },
  {
   "cell_type": "code",
   "execution_count": null,
   "id": "4df34133-fa22-4ccd-8fc7-65f81408ff2e",
   "metadata": {},
   "outputs": [],
   "source": []
  }
 ],
 "metadata": {
  "kernelspec": {
   "display_name": "Python 3 (ipykernel)",
   "language": "python",
   "name": "python3"
  },
  "language_info": {
   "codemirror_mode": {
    "name": "ipython",
    "version": 3
   },
   "file_extension": ".py",
   "mimetype": "text/x-python",
   "name": "python",
   "nbconvert_exporter": "python",
   "pygments_lexer": "ipython3",
   "version": "3.13.5"
  },
  "widgets": {
   "application/vnd.jupyter.widget-state+json": {
    "state": {},
    "version_major": 2,
    "version_minor": 0
   }
  }
 },
 "nbformat": 4,
 "nbformat_minor": 5
}
