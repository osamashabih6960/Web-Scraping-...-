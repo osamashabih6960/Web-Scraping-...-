{
 "cells": [
  {
   "cell_type": "code",
   "execution_count": 1,
   "id": "be5ed9a6-e953-4ecf-894f-c32509fc8e4e",
   "metadata": {},
   "outputs": [],
   "source": [
    "import time\n",
    "from selenium import webdriver\n",
    "from selenium.webdriver.common.by import By\n",
    "\n",
    " "
   ]
  },
  {
   "cell_type": "code",
   "execution_count": 5,
   "id": "ef661e20-284a-41be-9a4f-067d57748176",
   "metadata": {},
   "outputs": [],
   "source": [
    "driver = webdriver.Chrome()\n",
    "driver.maximize_window()\n",
    "\n",
    "url = \"https://en.wikipedia.org/wiki/Machine_learning\"\n",
    "driver.get(url)\n",
    "time.sleep(2)\n",
    "\n",
    "# scrolling vertically\n",
    "driver.execute_script(\"window.scrollBy(0, 1000);\")\n",
    "time.sleep(3)\n",
    "driver.execute_script(\"window.scrollBy(0, -500);\")\n"
   ]
  },
  {
   "cell_type": "code",
   "execution_count": 6,
   "id": "8e43aed3-b3b0-4e8f-8baf-2fd19f1df05c",
   "metadata": {},
   "outputs": [],
   "source": [
    " \n",
    "\n",
    " \n",
    "\n",
    "# scrolling by page height\n",
    "driver.execute_script(\"window.scrollTo(0, document.body.scrollHeight);\")\n",
    "time.sleep(3)\n",
    "driver.execute_script(\"window.scrollTo(0, -document.body.scrollHeight);\")"
   ]
  },
  {
   "cell_type": "code",
   "execution_count": 7,
   "id": "e5165a65-041e-45eb-85e5-ce5cfec22273",
   "metadata": {},
   "outputs": [],
   "source": [
    "# scrolling to element\n",
    "ai_xpath = '//*[@id=\"Artificial_intelligence\"]'\n",
    "ai_subtopic = driver.find_element(By.XPATH, ai_xpath)\n",
    "driver.execute_script(\"arguments[0].scrollIntoView();\", ai_subtopic)"
   ]
  },
  {
   "cell_type": "code",
   "execution_count": null,
   "id": "0e5c845e-e634-45ef-a2ce-0010aecbcec0",
   "metadata": {},
   "outputs": [],
   "source": []
  }
 ],
 "metadata": {
  "kernelspec": {
   "display_name": "Python 3 (ipykernel)",
   "language": "python",
   "name": "python3"
  },
  "language_info": {
   "codemirror_mode": {
    "name": "ipython",
    "version": 3
   },
   "file_extension": ".py",
   "mimetype": "text/x-python",
   "name": "python",
   "nbconvert_exporter": "python",
   "pygments_lexer": "ipython3",
   "version": "3.13.5"
  },
  "widgets": {
   "application/vnd.jupyter.widget-state+json": {
    "state": {},
    "version_major": 2,
    "version_minor": 0
   }
  }
 },
 "nbformat": 4,
 "nbformat_minor": 5
}
