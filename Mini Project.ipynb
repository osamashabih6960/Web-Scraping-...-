{
 "cells": [
  {
   "cell_type": "markdown",
   "id": "eeab8b85-c349-4be3-ab79-45d86f4ef4ab",
   "metadata": {},
   "source": [
    "# 5. HTML parsing with Beautiful Soup: A Mini Project\n",
    "# scrape data from a public website\n",
    "# organize the data as a dataframe\n",
    "# export the data as an excel sheet"
   ]
  },
  {
   "cell_type": "code",
   "execution_count": 19,
   "id": "2664ce86-7a3c-4f72-b08a-a5083b09e158",
   "metadata": {},
   "outputs": [],
   "source": [
    "import requests\n",
    "import pandas as pd\n",
    "from bs4 import BeautifulSoup"
   ]
  },
  {
   "cell_type": "code",
   "execution_count": 20,
   "id": "d5b14361-e3e0-4575-a885-c3e610543fda",
   "metadata": {},
   "outputs": [],
   "source": [
    "url = \"https://www.bbc.com/sport/football/premier-league/top-scorers\"\n",
    "\n",
    "response = requests.get(url)"
   ]
  },
  {
   "cell_type": "code",
   "execution_count": 21,
   "id": "bcfd4c0a-a54f-4d8b-9995-392930890af0",
   "metadata": {},
   "outputs": [],
   "source": [
    "player_names = []\n",
    "team_names = []\n",
    "goals = []\n",
    "assists = []\n",
    "num_matches = []\n",
    "shots = []"
   ]
  },
  {
   "cell_type": "code",
   "execution_count": 22,
   "id": "8235e7e8-6bd5-40fa-85be-8318570b0137",
   "metadata": {},
   "outputs": [
    {
     "name": "stdout",
     "output_type": "stream",
     "text": [
      "Successful!\n"
     ]
    }
   ],
   "source": [
    "import requests\n",
    "from bs4 import BeautifulSoup\n",
    "\n",
    "try:\n",
    "    response = requests.get(url)\n",
    "    response.raise_for_status()\n",
    "except Exception as e:\n",
    "    print(e)\n",
    "else:\n",
    "    soup = BeautifulSoup(response.content, 'html.parser')\n",
    "    print(\"Successful!\")\n"
   ]
  },
  {
   "cell_type": "code",
   "execution_count": 23,
   "id": "9e5aa9a8-b23f-42cd-8ec3-8046f7fc6059",
   "metadata": {},
   "outputs": [],
   "source": [
    "\n",
    "try:\n",
    "\tresponse = requests.get(url)\n",
    "\tresponse.raise_for_status()\n",
    "except Exception as e:\n",
    "\tprint(e)\n",
    "else:\n",
    "\tsoup = BeautifulSoup(response.content, 'html.parser')\n",
    "\tplayers = soup.find('tbody').find_all('tr', class_='ssrcss-dhlz6k-TableRowBody e1icz100')\n",
    "\tfor player in players:\n",
    "\t\tplayer_name = player.find('div', class_='ssrcss-m6ah29-PlayerName e1n8xy5b1').get_text(strip=True)\n",
    "\t\tteam_name = player.find('div', class_='ssrcss-qvpga1-TeamsSummary e1n8xy5b0').get_text(strip=True)\n",
    "\t\tgoals_scored = int(player.find('div', 'ssrcss-8k20kk-CellWrapper ef9ipf0').get_text(strip=True))\n",
    "\n",
    "\t\tstats = player.find_all('div', class_='ssrcss-150z8d-CellWrapper ef9ipf0')\n",
    "\t\tassists_made = int(stats[0].get_text(strip=True))\n",
    "\t\tmatches_played = int(stats[2].get_text(strip=True))\n",
    "\t\tshots_taken = int(stats[-3].get_text(strip=True))\n",
    "\t\t\n",
    "\t\tplayer_names.append(player_name)\n",
    "\t\tteam_names.append(team_name)\n",
    "\t\tgoals.append(goals_scored)\n",
    "\t\tassists.append(assists_made)\n",
    "\t\tnum_matches.append(matches_played)\n",
    "\t\tshots.append(shots_taken)\n",
    "\n",
    "\tdata = {\n",
    "\t\t'player': player_names,\n",
    "\t\t'team': team_names,\n",
    "\t\t'matches': num_matches,\n",
    "\t\t'goals': goals,\n",
    "\t\t'assists': assists,\n",
    "\t\t'shots': shots\n",
    "\t}\n",
    "\tdf_players = pd.DataFrame(data)"
   ]
  },
  {
   "cell_type": "code",
   "execution_count": 16,
   "id": "58fa4a83-862a-4728-bed4-085b22eb8463",
   "metadata": {},
   "outputs": [
    {
     "data": {
      "text/html": [
       "<div>\n",
       "<style scoped>\n",
       "    .dataframe tbody tr th:only-of-type {\n",
       "        vertical-align: middle;\n",
       "    }\n",
       "\n",
       "    .dataframe tbody tr th {\n",
       "        vertical-align: top;\n",
       "    }\n",
       "\n",
       "    .dataframe thead th {\n",
       "        text-align: right;\n",
       "    }\n",
       "</style>\n",
       "<table border=\"1\" class=\"dataframe\">\n",
       "  <thead>\n",
       "    <tr style=\"text-align: right;\">\n",
       "      <th></th>\n",
       "      <th>player</th>\n",
       "      <th>team</th>\n",
       "      <th>matches</th>\n",
       "      <th>goals</th>\n",
       "      <th>assists</th>\n",
       "      <th>shots</th>\n",
       "    </tr>\n",
       "  </thead>\n",
       "  <tbody>\n",
       "  </tbody>\n",
       "</table>\n",
       "</div>"
      ],
      "text/plain": [
       "Empty DataFrame\n",
       "Columns: [player, team, matches, goals, assists, shots]\n",
       "Index: []"
      ]
     },
     "execution_count": 16,
     "metadata": {},
     "output_type": "execute_result"
    }
   ],
   "source": [
    "df_players\n"
   ]
  },
  {
   "cell_type": "code",
   "execution_count": 17,
   "id": "2a26056a-bc4c-4b23-87be-3c7d5f7b0d6c",
   "metadata": {},
   "outputs": [
    {
     "name": "stdout",
     "output_type": "stream",
     "text": [
      "<class 'pandas.core.frame.DataFrame'>\n",
      "RangeIndex: 0 entries\n",
      "Data columns (total 6 columns):\n",
      " #   Column   Non-Null Count  Dtype  \n",
      "---  ------   --------------  -----  \n",
      " 0   player   0 non-null      float64\n",
      " 1   team     0 non-null      float64\n",
      " 2   matches  0 non-null      float64\n",
      " 3   goals    0 non-null      float64\n",
      " 4   assists  0 non-null      float64\n",
      " 5   shots    0 non-null      float64\n",
      "dtypes: float64(6)\n",
      "memory usage: 132.0 bytes\n"
     ]
    }
   ],
   "source": [
    "df_players.info()\n"
   ]
  },
  {
   "cell_type": "code",
   "execution_count": 18,
   "id": "9af2b6ed-5833-40a7-96b9-ca010498e6f1",
   "metadata": {},
   "outputs": [
    {
     "data": {
      "text/html": [
       "<div>\n",
       "<style scoped>\n",
       "    .dataframe tbody tr th:only-of-type {\n",
       "        vertical-align: middle;\n",
       "    }\n",
       "\n",
       "    .dataframe tbody tr th {\n",
       "        vertical-align: top;\n",
       "    }\n",
       "\n",
       "    .dataframe thead th {\n",
       "        text-align: right;\n",
       "    }\n",
       "</style>\n",
       "<table border=\"1\" class=\"dataframe\">\n",
       "  <thead>\n",
       "    <tr style=\"text-align: right;\">\n",
       "      <th></th>\n",
       "      <th>player</th>\n",
       "      <th>team</th>\n",
       "      <th>matches</th>\n",
       "      <th>goals</th>\n",
       "      <th>assists</th>\n",
       "      <th>shots</th>\n",
       "    </tr>\n",
       "  </thead>\n",
       "  <tbody>\n",
       "    <tr>\n",
       "      <th>count</th>\n",
       "      <td>0.0</td>\n",
       "      <td>0.0</td>\n",
       "      <td>0.0</td>\n",
       "      <td>0.0</td>\n",
       "      <td>0.0</td>\n",
       "      <td>0.0</td>\n",
       "    </tr>\n",
       "    <tr>\n",
       "      <th>mean</th>\n",
       "      <td>NaN</td>\n",
       "      <td>NaN</td>\n",
       "      <td>NaN</td>\n",
       "      <td>NaN</td>\n",
       "      <td>NaN</td>\n",
       "      <td>NaN</td>\n",
       "    </tr>\n",
       "    <tr>\n",
       "      <th>std</th>\n",
       "      <td>NaN</td>\n",
       "      <td>NaN</td>\n",
       "      <td>NaN</td>\n",
       "      <td>NaN</td>\n",
       "      <td>NaN</td>\n",
       "      <td>NaN</td>\n",
       "    </tr>\n",
       "    <tr>\n",
       "      <th>min</th>\n",
       "      <td>NaN</td>\n",
       "      <td>NaN</td>\n",
       "      <td>NaN</td>\n",
       "      <td>NaN</td>\n",
       "      <td>NaN</td>\n",
       "      <td>NaN</td>\n",
       "    </tr>\n",
       "    <tr>\n",
       "      <th>25%</th>\n",
       "      <td>NaN</td>\n",
       "      <td>NaN</td>\n",
       "      <td>NaN</td>\n",
       "      <td>NaN</td>\n",
       "      <td>NaN</td>\n",
       "      <td>NaN</td>\n",
       "    </tr>\n",
       "    <tr>\n",
       "      <th>50%</th>\n",
       "      <td>NaN</td>\n",
       "      <td>NaN</td>\n",
       "      <td>NaN</td>\n",
       "      <td>NaN</td>\n",
       "      <td>NaN</td>\n",
       "      <td>NaN</td>\n",
       "    </tr>\n",
       "    <tr>\n",
       "      <th>75%</th>\n",
       "      <td>NaN</td>\n",
       "      <td>NaN</td>\n",
       "      <td>NaN</td>\n",
       "      <td>NaN</td>\n",
       "      <td>NaN</td>\n",
       "      <td>NaN</td>\n",
       "    </tr>\n",
       "    <tr>\n",
       "      <th>max</th>\n",
       "      <td>NaN</td>\n",
       "      <td>NaN</td>\n",
       "      <td>NaN</td>\n",
       "      <td>NaN</td>\n",
       "      <td>NaN</td>\n",
       "      <td>NaN</td>\n",
       "    </tr>\n",
       "  </tbody>\n",
       "</table>\n",
       "</div>"
      ],
      "text/plain": [
       "       player  team  matches  goals  assists  shots\n",
       "count     0.0   0.0      0.0    0.0      0.0    0.0\n",
       "mean      NaN   NaN      NaN    NaN      NaN    NaN\n",
       "std       NaN   NaN      NaN    NaN      NaN    NaN\n",
       "min       NaN   NaN      NaN    NaN      NaN    NaN\n",
       "25%       NaN   NaN      NaN    NaN      NaN    NaN\n",
       "50%       NaN   NaN      NaN    NaN      NaN    NaN\n",
       "75%       NaN   NaN      NaN    NaN      NaN    NaN\n",
       "max       NaN   NaN      NaN    NaN      NaN    NaN"
      ]
     },
     "execution_count": 18,
     "metadata": {},
     "output_type": "execute_result"
    }
   ],
   "source": [
    "df_players.describe()\n"
   ]
  },
  {
   "cell_type": "code",
   "execution_count": null,
   "id": "cc9879d2-51d0-4861-b073-0c0c16cd0a91",
   "metadata": {},
   "outputs": [],
   "source": []
  }
 ],
 "metadata": {
  "kernelspec": {
   "display_name": "web_scraping",
   "language": "python",
   "name": "web_scraping"
  },
  "language_info": {
   "codemirror_mode": {
    "name": "ipython",
    "version": 3
   },
   "file_extension": ".py",
   "mimetype": "text/x-python",
   "name": "python",
   "nbconvert_exporter": "python",
   "pygments_lexer": "ipython3",
   "version": "3.13.5"
  },
  "widgets": {
   "application/vnd.jupyter.widget-state+json": {
    "state": {},
    "version_major": 2,
    "version_minor": 0
   }
  }
 },
 "nbformat": 4,
 "nbformat_minor": 5
}
